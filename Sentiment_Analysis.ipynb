{
 "cells": [
  {
   "cell_type": "code",
   "execution_count": 1,
   "metadata": {},
   "outputs": [],
   "source": [
    "from nltk.corpus import stopwords,twitter_samples"
   ]
  },
  {
   "cell_type": "code",
   "execution_count": 2,
   "metadata": {},
   "outputs": [],
   "source": [
    "import numpy as np\n",
    "import pandas as pd\n",
    "import nltk\n",
    "import string\n",
    "from nltk.tokenize import TweetTokenizer"
   ]
  },
  {
   "cell_type": "code",
   "execution_count": 3,
   "metadata": {},
   "outputs": [
    {
     "name": "stderr",
     "output_type": "stream",
     "text": [
      "[nltk_data] Downloading package stopwords to\n",
      "[nltk_data]     C:\\Users\\Lenovo\\AppData\\Roaming\\nltk_data...\n",
      "[nltk_data]   Unzipping corpora\\stopwords.zip.\n",
      "[nltk_data] Downloading package twitter_samples to\n",
      "[nltk_data]     C:\\Users\\Lenovo\\AppData\\Roaming\\nltk_data...\n",
      "[nltk_data]   Unzipping corpora\\twitter_samples.zip.\n"
     ]
    },
    {
     "data": {
      "text/plain": [
       "True"
      ]
     },
     "execution_count": 3,
     "metadata": {},
     "output_type": "execute_result"
    }
   ],
   "source": [
    "nltk.download('stopwords')\n",
    "nltk.download('twitter_samples')"
   ]
  },
  {
   "cell_type": "code",
   "execution_count": 4,
   "metadata": {},
   "outputs": [],
   "source": [
    "from os import getcwd"
   ]
  },
  {
   "cell_type": "code",
   "execution_count": 5,
   "metadata": {},
   "outputs": [],
   "source": [
    "filePath = f\"{getcwd()}/../tmp2/\"\n",
    "nltk.data.path.append(filePath)"
   ]
  },
  {
   "cell_type": "code",
   "execution_count": 7,
   "metadata": {},
   "outputs": [],
   "source": [
    "positive_tweets = twitter_samples.strings('positive_tweets.json')\n",
    "negative_tweets = twitter_samples.strings('negative_tweets.json')"
   ]
  },
  {
   "cell_type": "code",
   "execution_count": 9,
   "metadata": {},
   "outputs": [
    {
     "data": {
      "text/plain": [
       "5000"
      ]
     },
     "execution_count": 9,
     "metadata": {},
     "output_type": "execute_result"
    }
   ],
   "source": [
    "len(positive_tweets)"
   ]
  },
  {
   "cell_type": "code",
   "execution_count": 10,
   "metadata": {},
   "outputs": [],
   "source": [
    "train_pos = positive_tweets[:4500]\n",
    "train_neg = negative_tweets[:4500]\n",
    "val_pos = positive_tweets[4500:]\n",
    "val_neg = negative_tweets[4500:]\n",
    "\n",
    "train_x = train_pos+train_neg\n",
    "val_x = val_pos+val_neg\n",
    "\n",
    "train_y = np.append(np.ones((4500)),np.zeros((4500)))\n",
    "val_y = np.append(np.ones((500)),np.zeros((500)))"
   ]
  },
  {
   "cell_type": "code",
   "execution_count": 11,
   "metadata": {},
   "outputs": [
    {
     "name": "stdout",
     "output_type": "stream",
     "text": [
      "Great way to start the day!  :D http://t.co/N5nOp3FfnX\n"
     ]
    }
   ],
   "source": [
    "print(train_x[2438])"
   ]
  },
  {
   "cell_type": "code",
   "execution_count": 12,
   "metadata": {},
   "outputs": [],
   "source": [
    "from nltk.stem import PorterStemmer"
   ]
  },
  {
   "cell_type": "code",
   "execution_count": 13,
   "metadata": {},
   "outputs": [],
   "source": [
    "import re"
   ]
  },
  {
   "cell_type": "code",
   "execution_count": 23,
   "metadata": {},
   "outputs": [],
   "source": [
    "def process_tweet(tweet):\n",
    "    \n",
    "    stemmer  = PorterStemmer()\n",
    "    stopwords_english = stopwords.words('english')\n",
    "    tweet = re.sub(r'RT[\\s]+','',tweet)\n",
    "    tweet = re.sub(r'https?:\\/\\/.*[\\r\\n]*','',tweet)\n",
    "    tweet = re.sub(r'#','',tweet)\n",
    "    \n",
    "    tokenizer = TweetTokenizer(preserve_case = False,strip_handles = True,reduce_len = True)\n",
    "    \n",
    "    tweet_tokens = tokenizer.tokenize(tweet)\n",
    "    \n",
    "    clean_tweets = []\n",
    "    for word in tweet_tokens:\n",
    "        if (word not in stopwords_english and word not in string.punctuation):\n",
    "            clean_word = stemmer.stem(word)\n",
    "            clean_tweets.append(clean_word)\n",
    "    \n",
    "    return clean_tweets"
   ]
  },
  {
   "cell_type": "code",
   "execution_count": 24,
   "metadata": {},
   "outputs": [],
   "source": [
    "def count_frequency(tweets,y):\n",
    "    \n",
    "    y_list = np.squeeze(y).tolist()\n",
    "    \n",
    "    freqs = {}\n",
    "    \n",
    "    for label,tweet in zip(y_list,tweets):\n",
    "        for word in process_tweet(tweet):\n",
    "            \n",
    "            pair = (word,label)\n",
    "            if pair not in freqs:\n",
    "                freqs[pair]=1\n",
    "            else:\n",
    "                freqs[pair]+=1\n",
    "                \n",
    "    return freqs"
   ]
  },
  {
   "cell_type": "code",
   "execution_count": 27,
   "metadata": {},
   "outputs": [
    {
     "data": {
      "text/plain": [
       "{('happi', 1): 1,\n",
       " ('sad', 0): 2,\n",
       " ('worri', 0): 1,\n",
       " ('love', 1): 1,\n",
       " ('pizza', 1): 1,\n",
       " ('hate', 0): 1,\n",
       " ('burger', 0): 1}"
      ]
     },
     "execution_count": 27,
     "metadata": {},
     "output_type": "execute_result"
    }
   ],
   "source": [
    "frequencies = {}\n",
    "tweets = ['I am Happy!','I am sad', 'I am worried','I love pizza','I hate burger','He is sad']\n",
    "y = [1,0,0,1,0,0]\n",
    "count_frequency(tweets,y)"
   ]
  },
  {
   "cell_type": "code",
   "execution_count": 39,
   "metadata": {},
   "outputs": [],
   "source": [
    "def naive_bayes_algo(freqs,x_train,y_train):\n",
    "    \n",
    "    logprior = 0\n",
    "    loglikelihood = {}\n",
    "    vocab = set(pair[0] for pair in freqs.keys())\n",
    "    V = len(vocab)\n",
    "    \n",
    "    N_pos = 0\n",
    "    N_neg = 0\n",
    "    \n",
    "    for pair in freqs.keys():\n",
    "        if pair[1] == 1:\n",
    "            N_pos+=freqs[pair]\n",
    "        else:\n",
    "            N_neg+=freqs[pair]\n",
    "    \n",
    "    l = len(y_train)\n",
    "    \n",
    "    l_pos = np.sum(y_train == 1)\n",
    "    \n",
    "    l_neg = l - l_pos\n",
    "    \n",
    "    logprior = np.log(l_pos) - np.log(l_neg)\n",
    "    \n",
    "    for word in vocab:\n",
    "        freq_in_pos_tweet = freqs.get((word,1),0)\n",
    "        freq_in_neg_tweet = freqs.get((word,0),0)\n",
    "        \n",
    "        p_w_pos = (freq_in_pos_tweet+1)/(N_pos+V)\n",
    "        p_w_neg = (freq_in_neg_tweet+1)/(N_neg+V)\n",
    "        \n",
    "        loglikelihood[word] = np.log(p_w_pos) - np.log(p_w_neg)\n",
    "        \n",
    "    return logprior,loglikelihood"
   ]
  },
  {
   "cell_type": "code",
   "execution_count": 36,
   "metadata": {},
   "outputs": [],
   "source": [
    "def naive_bayes_calculate(tweet,logprior,loglikelihood):\n",
    "    \n",
    "    processed_tweet = process_tweet(tweet)\n",
    "    probab = 0\n",
    "    probab+=logprior\n",
    "    \n",
    "    for word in processed_tweet:\n",
    "        \n",
    "        if word in loglikelihood:\n",
    "            \n",
    "            probab+=loglikelihood[word]\n",
    "    \n",
    "    if probab>0:\n",
    "        return 'Positive Sentiment'\n",
    "    \n",
    "    return 'Negative Sentiment'        \n",
    "    "
   ]
  },
  {
   "cell_type": "code",
   "execution_count": 31,
   "metadata": {},
   "outputs": [
    {
     "ename": "NameError",
     "evalue": "name 'logprior' is not defined",
     "output_type": "error",
     "traceback": [
      "\u001b[1;31m---------------------------------------------------------------------------\u001b[0m",
      "\u001b[1;31mNameError\u001b[0m                                 Traceback (most recent call last)",
      "\u001b[1;32m<ipython-input-31-709bc469b666>\u001b[0m in \u001b[0;36m<module>\u001b[1;34m\u001b[0m\n\u001b[1;32m----> 1\u001b[1;33m \u001b[0mprint\u001b[0m\u001b[1;33m(\u001b[0m\u001b[1;34m'I love Janvi'\u001b[0m\u001b[1;33m,\u001b[0m\u001b[0mlogprior\u001b[0m\u001b[1;33m,\u001b[0m\u001b[0mloglikelihood\u001b[0m\u001b[1;33m)\u001b[0m\u001b[1;33m\u001b[0m\u001b[1;33m\u001b[0m\u001b[0m\n\u001b[0m",
      "\u001b[1;31mNameError\u001b[0m: name 'logprior' is not defined"
     ]
    }
   ],
   "source": [
    "print('I love Pizza',logprior,loglikelihood)"
   ]
  },
  {
   "cell_type": "code",
   "execution_count": 37,
   "metadata": {},
   "outputs": [],
   "source": [
    "freqs = count_frequency(train_x,train_y)"
   ]
  },
  {
   "cell_type": "code",
   "execution_count": 40,
   "metadata": {},
   "outputs": [],
   "source": [
    "logprior,loglikelihood = naive_bayes_algo(freqs,train_x,train_y)"
   ]
  },
  {
   "cell_type": "code",
   "execution_count": 42,
   "metadata": {},
   "outputs": [
    {
     "name": "stdout",
     "output_type": "stream",
     "text": [
      "Negative Sentiment\n"
     ]
    }
   ],
   "source": [
    "print(naive_bayes_calculate('I hate Pizza',logprior,loglikelihood))"
   ]
  },
  {
   "cell_type": "code",
   "execution_count": 50,
   "metadata": {},
   "outputs": [
    {
     "name": "stdout",
     "output_type": "stream",
     "text": [
      "Positive Sentiment\n"
     ]
    }
   ],
   "source": [
    "print(naive_bayes_calculate('Today is wonderful',logprior,loglikelihood))"
   ]
  },
  {
   "cell_type": "code",
   "execution_count": 57,
   "metadata": {},
   "outputs": [],
   "source": [
    "def test_algo(test_x,test_y,logprior,loglikelihood):\n",
    "    accuracy = 0\n",
    "    y_predicted = []\n",
    "    \n",
    "    for tweet in test_x:\n",
    "        \n",
    "        if naive_bayes_calculate(tweet,logprior,loglikelihood)[0] == 'P':\n",
    "            y_predicted.append(1)\n",
    "        else:\n",
    "            y_predicted.append(0)\n",
    "\n",
    "    error = []\n",
    "    error = (abs(y_predicted - test_y))\n",
    "    \n",
    "    accuracy = np.mean((1 - error))\n",
    "    \n",
    "    return accuracy"
   ]
  },
  {
   "cell_type": "code",
   "execution_count": 58,
   "metadata": {},
   "outputs": [
    {
     "name": "stdout",
     "output_type": "stream",
     "text": [
      "0.995\n"
     ]
    }
   ],
   "source": [
    "print(test_algo(val_x,val_y,logprior,loglikelihood))"
   ]
  },
  {
   "cell_type": "code",
   "execution_count": null,
   "metadata": {},
   "outputs": [],
   "source": []
  }
 ],
 "metadata": {
  "kernelspec": {
   "display_name": "Python 3",
   "language": "python",
   "name": "python3"
  },
  "language_info": {
   "codemirror_mode": {
    "name": "ipython",
    "version": 3
   },
   "file_extension": ".py",
   "mimetype": "text/x-python",
   "name": "python",
   "nbconvert_exporter": "python",
   "pygments_lexer": "ipython3",
   "version": "3.7.4"
  }
 },
 "nbformat": 4,
 "nbformat_minor": 4
}
